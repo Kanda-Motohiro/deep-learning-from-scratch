{
  "nbformat": 4,
  "nbformat_minor": 0,
  "metadata": {
    "colab": {
      "name": "xortensorflow.ipynb",
      "version": "0.3.2",
      "provenance": [],
      "collapsed_sections": [],
      "include_colab_link": true
    },
    "language_info": {
      "codemirror_mode": {
        "name": "ipython",
        "version": 3
      },
      "file_extension": ".py",
      "mimetype": "text/x-python",
      "name": "python",
      "nbconvert_exporter": "python",
      "pygments_lexer": "ipython3",
      "version": "3.7.3"
    },
    "kernelspec": {
      "name": "python3",
      "display_name": "Python 3"
    },
    "accelerator": "TPU"
  },
  "cells": [
    {
      "cell_type": "markdown",
      "metadata": {
        "id": "view-in-github",
        "colab_type": "text"
      },
      "source": [
        "<a href=\"https://colab.research.google.com/github/Kanda-Motohiro/deep-learning-from-scratch/blob/kanda-andgate/extra/xortensorflow.ipynb\" target=\"_parent\"><img src=\"https://colab.research.google.com/assets/colab-badge.svg\" alt=\"Open In Colab\"/></a>"
      ]
    },
    {
      "cell_type": "code",
      "metadata": {
        "colab_type": "code",
        "id": "V-bRBAhl2Bez",
        "colab": {}
      },
      "source": [
        "# coding: utf-8\n",
        "# xortensorflow.py by kanda.motohiro@gmail.com\n",
        "# released under The MIT License.\n",
        "# inspired by\n",
        "# http://cs231n.stanford.edu/slides/2017/cs231n_2017_lecture8.pdf slide 8-6060\n",
        "# and https://www.tensorflow.org/tutorials/keras/basic_classification\n",
        "import numpy as np\n",
        "import tensorflow as tf\n",
        "from tensorflow import keras\n",
        "h = 1e-4 # 0.0001\n",
        "input = np.array(([h, h], [1.0, h], [h, 1.0], [1.0, 1.0]))\n",
        "xor_output = np.array(([[1.0, 0.0], [0.0, 1.0], [0.0, 1.0], [1.0, 0.0]]))\n",
        "\n",
        "def print_network(L1, L2):\n",
        "    print(\"L1 weight, bias\")\n",
        "    print(L1.get_weights())\n",
        "    print(\"L2 weight, bias\")\n",
        "    print(L2.get_weights())\n",
        "    \n",
        "model = keras.Sequential()\n",
        "L1 = keras.layers.Dense(2, activation=tf.nn.sigmoid,\n",
        "        kernel_initializer='glorot_normal', bias_initializer='zeros')\n",
        "L2 = keras.layers.Dense(2)\n",
        "model.add(L1)\n",
        "model.add(L2)\n",
        "model.compile(optimizer='adam', loss=\"mean_squared_error\")"
      ],
      "execution_count": 0,
      "outputs": []
    },
    {
      "cell_type": "code",
      "metadata": {
        "colab_type": "code",
        "id": "yGY_wmVB3y1W",
        "colab": {}
      },
      "source": [
        "# 学習。\n",
        "history = model.fit(input, xor_output, verbose=0, epochs=10000)"
      ],
      "execution_count": 0,
      "outputs": []
    },
    {
      "cell_type": "code",
      "metadata": {
        "colab_type": "code",
        "id": "g06fxr9Z3-I2",
        "colab": {
          "base_uri": "https://localhost:8080/",
          "height": 187
        },
        "outputId": "4241304f-83b9-4e57-8b24-b8b4928250f7"
      },
      "source": [
        "# 結果を見る。\n",
        "y_pred = model.predict(input)\n",
        "print(\"pred=\" + str(y_pred))\n",
        "# 重みを見る。\n",
        "print_network(L1, L2)"
      ],
      "execution_count": 3,
      "outputs": [
        {
          "output_type": "stream",
          "text": [
            "pred=[[ 9.9999744e-01 -1.5497208e-06]\n",
            " [ 3.5762787e-06  1.0000024e+00]\n",
            " [ 3.4570694e-06  1.0000021e+00]\n",
            " [ 9.9999535e-01 -3.0398369e-06]]\n",
            "L1 weight, bias\n",
            "[array([[1.9962517, 4.1493225],\n",
            "       [2.0046828, 4.188397 ]], dtype=float32), array([-2.7294629, -1.3241482], dtype=float32)]\n",
            "L2 weight, bias\n",
            "[array([[ 2.4616613, -2.461694 ],\n",
            "       [-2.2459679,  2.2459931]], dtype=float32), array([ 1.3214005 , -0.32140797], dtype=float32)]\n"
          ],
          "name": "stdout"
        }
      ]
    }
  ]
}